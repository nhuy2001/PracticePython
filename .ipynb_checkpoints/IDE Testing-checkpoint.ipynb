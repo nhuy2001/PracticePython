{
 "cells": [
  {
   "cell_type": "code",
   "execution_count": 1,
   "id": "32226753-7a61-41de-b5f2-d09ca6add4ca",
   "metadata": {
    "tags": []
   },
   "outputs": [
    {
     "name": "stdin",
     "output_type": "stream",
     "text": [
      "How Strong Would You Like Your Password to be? [weak/medium/strong]\n",
      " weak\n"
     ]
    },
    {
     "name": "stdout",
     "output_type": "stream",
     "text": [
      "\n",
      "Your password is: morbillary\n",
      "\n",
      "Password Length: 10\n",
      "\n"
     ]
    },
    {
     "name": "stdin",
     "output_type": "stream",
     "text": [
      "Would You Like to Generate Another Password? [y/n] y\n"
     ]
    },
    {
     "name": "stdout",
     "output_type": "stream",
     "text": [
      "\n"
     ]
    },
    {
     "name": "stdin",
     "output_type": "stream",
     "text": [
      "How Strong Would You Like Your Password to be? [weak/medium/strong]\n",
      " medium\n"
     ]
    },
    {
     "name": "stdout",
     "output_type": "stream",
     "text": [
      "\n",
      "Your password is: \n",
      "4JSJy1xnH2b5OTdZ0OXbbW\n",
      "\n",
      "Password Length: 22\n",
      "\n"
     ]
    },
    {
     "name": "stdin",
     "output_type": "stream",
     "text": [
      "Would You Like to Generate Another Password? [y/n] y\n"
     ]
    },
    {
     "name": "stdout",
     "output_type": "stream",
     "text": [
      "\n"
     ]
    },
    {
     "name": "stdin",
     "output_type": "stream",
     "text": [
      "How Strong Would You Like Your Password to be? [weak/medium/strong]\n",
      " strong\n"
     ]
    },
    {
     "name": "stdout",
     "output_type": "stream",
     "text": [
      "\n",
      "Your password is: \n",
      "Yrq=DiF1d@ru1[[ikLSV\\7\n",
      "\n",
      "Password Length: 22\n",
      "\n"
     ]
    },
    {
     "name": "stdin",
     "output_type": "stream",
     "text": [
      "Would You Like to Generate Another Password? [y/n] n\n"
     ]
    },
    {
     "name": "stdout",
     "output_type": "stream",
     "text": [
      "\n"
     ]
    }
   ],
   "source": [
    "#Huy Nguyen\n",
    "#Date Created: 2023-10-30\n",
    "#Last Updated: 2023-10-30\n",
    "\n",
    "#Requirement: https://www.practicepython.org/exercise/2014/05/28/16-password-generator.html\n",
    "\n",
    "from english_words import get_english_words_set\n",
    "import random\n",
    "import string\n",
    "\n",
    "passStr = ['weak', 'medium', 'strong']\n",
    "web2_lower = list(get_english_words_set(['web2'], lower=True)) #Web2 dictionary, converted to lowercase\n",
    "\n",
    "#Lists of all characters\n",
    "lowerCase = list(string.ascii_lowercase)\n",
    "upperCase = list(string.ascii_uppercase)\n",
    "number = list(string.digits)\n",
    "specialChar = list(set(string.punctuation))\n",
    "\n",
    "MAX_LENGTH = 25\n",
    "STR_MIN_LENGTH = 14\n",
    "MID_MIN_LENGTH = 6\n",
    "\n",
    "#-------------------------------------------------------------------------------------------------------\n",
    "\n",
    "def strongPassword ():\n",
    "    passLen = random.choice(range(STR_MIN_LENGTH, MAX_LENGTH))\n",
    "    \n",
    "    outputString = ''\n",
    "    \n",
    "    order = [lowerCase, upperCase, number, specialChar]\n",
    "    \n",
    "    listLength = len(order)\n",
    "\n",
    "    for i in range(1, passLen + 1):\n",
    "        currentItem = random.choice(order)\n",
    "        randIndex = random.choice(range(0, len(currentItem)))\n",
    "        outputString += currentItem[randIndex]\n",
    "        \n",
    "    return print(f'Your password is: \\n{outputString}\\n\\nPassword Length: {passLen}')\n",
    "\n",
    "#-------------------------------------------------------------------------------------------------------\n",
    "    \n",
    "def mediumPassword ():\n",
    "    choice = random.choice([1, 2])\n",
    "    outputString = ''\n",
    "    \n",
    "    if choice == 1:\n",
    "        passLen = random.choice(range(MID_MIN_LENGTH, STR_MIN_LENGTH))\n",
    "        \n",
    "        order = [lowerCase, upperCase, number, specialChar]\n",
    "        \n",
    "        listLength = len(order)\n",
    "\n",
    "        for i in range(1, passLen + 1):\n",
    "            currentItem = random.choice(order)\n",
    "            randIndex = random.choice(range(0, len(currentItem)))\n",
    "            outputString += currentItem[randIndex]\n",
    "            \n",
    "        return print(f'Your password is: \\n{outputString}\\n\\nPassword Length: {passLen}')\n",
    "        \n",
    "    else:\n",
    "        passLen = random.choice(range(STR_MIN_LENGTH, MAX_LENGTH))\n",
    "        \n",
    "        order = [lowerCase, upperCase, number]\n",
    "        \n",
    "        listLength = len(order)\n",
    "\n",
    "        for i in range(1, passLen + 1):\n",
    "            currentItem = random.choice(order)\n",
    "            randIndex = random.choice(range(0, len(currentItem)))\n",
    "            outputString += currentItem[randIndex]\n",
    "            \n",
    "        return print(f'Your password is: \\n{outputString}\\n\\nPassword Length: {passLen}')\n",
    "\n",
    "#-------------------------------------------------------------------------------------------------------\n",
    " \n",
    "def weakPassword ():\n",
    "    easyPass = random.choice(web2_lower)\n",
    "    \n",
    "    return print(f'Your password is: {easyPass}\\n\\nPassword Length: {len(easyPass)}')\n",
    "    \n",
    "#-------------------------------------------------------------------------------------------------------\n",
    "\n",
    "while True:\n",
    "    check = True\n",
    "    while check == True:\n",
    "        inputVal = input('How Strong Would You Like Your Password to be? [weak/medium/strong]\\n').lower()\n",
    "        if not inputVal in passStr:\n",
    "            print('\\nInvalid input')\n",
    "        else:\n",
    "            check = False\n",
    "            break\n",
    "    print()\n",
    "\n",
    "    if inputVal == 'strong':\n",
    "        strongPassword()\n",
    "    elif inputVal == 'medium':\n",
    "        mediumPassword()\n",
    "    else:\n",
    "        weakPassword()\n",
    "    \n",
    "    print()\n",
    "    while True:\n",
    "        contChoice = input('Would You Like to Generate Another Password? [y/n]').lower()\n",
    "        if not contChoice in ['y', 'n']: \n",
    "            print('\\nInvalid Input!\\n')\n",
    "        else:\n",
    "            break\n",
    "    print()\n",
    "    \n",
    "    if contChoice == 'n':\n",
    "        break"
   ]
  }
 ],
 "metadata": {
  "kernelspec": {
   "display_name": "Python 3 (ipykernel)",
   "language": "python",
   "name": "python3"
  },
  "language_info": {
   "codemirror_mode": {
    "name": "ipython",
    "version": 3
   },
   "file_extension": ".py",
   "mimetype": "text/x-python",
   "name": "python",
   "nbconvert_exporter": "python",
   "pygments_lexer": "ipython3",
   "version": "3.11.5"
  }
 },
 "nbformat": 4,
 "nbformat_minor": 5
}
